{
 "cells": [
  {
   "cell_type": "markdown",
   "metadata": {},
   "source": [
    "Pokemon Database Workshop\n",
    "\n",
    "Objectives\n",
    "    \n",
    "    - Scalar get and set\n",
    "    \n",
    "    - Boolean indexing\n",
    "    \n",
    "    - Indexing with isin\n",
    "    \n",
    "    - MultiIndexing\n",
    "        - Selecting with isin\n",
    "    \n",
    "    - Meta data and indexing\n",
    "    \n",
    "    - mask()\n",
    "    \n",
    "    - where()"
   ]
  },
  {
   "cell_type": "markdown",
   "metadata": {},
   "source": [
    "Setup\n",
    "\n",
    "There are 3 tables in this database:\n",
    "\n",
    "    pokemon - main table giving meta inforation on each pokemon\n",
    "\n",
    "    types - type names and ids\n",
    "\n",
    "    pokemon_types - The relationship table containing each combination of\n",
    "                    pokemon and type. For example if pokemon with id 1 has type\n",
    "                    with id 1 then 1, 1 will be found in the table\n",
    "                    pokemon_types"
   ]
  },
  {
   "cell_type": "code",
   "execution_count": 347,
   "metadata": {},
   "outputs": [],
   "source": [
    "import pandas as pd\n",
    "\n",
    "BASE_DIR = './pokemon/'\n",
    "\n",
    "pokemon = pd.read_excel(BASE_DIR + 'pokemon.xlsx')\n",
    "types = pd.read_excel(BASE_DIR + 'types.xlsx')\n",
    "pokemon_types = pd.read_excel(BASE_DIR + 'pokemon_types.xlsx')"
   ]
  },
  {
   "cell_type": "markdown",
   "metadata": {},
   "source": [
    "Activity 1\n",
    "    \n",
    "    1. Set index of DataFrame pokemon to p_id. Do not drop the column.\n",
    "       Find and save the name of the pokemon with p_id = 143 into variable\n",
    "       'name'\n",
    "\n",
    "    2. Write a funciton named get_types(p_id: str) -> list that returns a list\n",
    "       of pokemon types given the pokemon's id (p_id).\n",
    "\n",
    "    3. Write a funciton get_pokemon(type_names: list) -> list that returns a\n",
    "       list of pokemon names of all pokemon that have at least one type\n",
    "       represented in the passed list of types (type_names).\n",
    "       \n",
    "    4. Set column \"Ayden's Favorite\" = True where p_id = 143\n",
    "\n",
    "Objectives Used\n",
    "\n",
    "    - Scalar get and set\n",
    "\n",
    "    - Boolean indexing\n",
    "    \n",
    "    - Indexing with isin"
   ]
  },
  {
   "cell_type": "code",
   "execution_count": 331,
   "metadata": {},
   "outputs": [],
   "source": [
    "pokemon = pokemon.set_index('p_id' ,drop=False)\n"
   ]
  },
  {
   "cell_type": "code",
   "execution_count": 332,
   "metadata": {},
   "outputs": [],
   "source": [
    "name = pokemon.at[143,'name']\n"
   ]
  },
  {
   "cell_type": "code",
   "execution_count": 333,
   "metadata": {},
   "outputs": [],
   "source": [
    "\n",
    "def get_types(id):\n",
    "    typeNum = pokemon_types.loc[pokemon_types['p_id']==id]\n",
    "    typeNum2= typeNum.t_id\n",
    "    typeName = types['id'].isin(typeNum2)\n",
    "    return types[typeName].name\n"
   ]
  },
  {
   "cell_type": "code",
   "execution_count": 334,
   "metadata": {},
   "outputs": [],
   "source": [
    "\n",
    "    \n",
    "    \n",
    "def get_pokemon(typeName):\n",
    "    typeNum = types['name'].isin(typeName)\n",
    "    type1 = pokemon_types['t_id'].isin(types[typeNum].id)\n",
    "    poke=pokemon['p_id'].isin(pokemon_types[type1].p_id)\n",
    "    return pokemon[poke].name"
   ]
  },
  {
   "cell_type": "code",
   "execution_count": 335,
   "metadata": {},
   "outputs": [],
   "source": [
    "\n",
    "pokemon.insert(5,\"Ayden's Favorite\",False)\n"
   ]
  },
  {
   "cell_type": "code",
   "execution_count": 336,
   "metadata": {},
   "outputs": [],
   "source": [
    "pokemon.at[143, \"Ayden's Favorite\"]= True\n"
   ]
  },
  {
   "cell_type": "markdown",
   "metadata": {},
   "source": [
    "Test your work:"
   ]
  },
  {
   "cell_type": "code",
   "execution_count": 337,
   "metadata": {},
   "outputs": [],
   "source": [
    "assert name == 'snorlax'\n",
    "assert sorted(get_types(145)) == ['electric', 'flying']\n",
    "assert sorted(get_types(1)) == ['grass', 'poison']\n",
    "assert sorted(get_pokemon(['dragon'])) == ['dragonair', 'dragonite', 'dratini','kingdra']\n",
    "assert pokemon.at[143, \"Ayden's Favorite\"] == True\n",
    "assert pokemon.at[143, 'name'] == 'snorlax'"
   ]
  },
  {
   "cell_type": "markdown",
   "metadata": {},
   "source": [
    "Activity 2\n",
    "\n",
    "    1. Create a MultiIndex for the pandas DataFrame pokemon that indexes by\n",
    "       weight then height\n",
    "\n",
    "    2. Rename the levels of the MultiIndex to mass and length respectively.\n",
    "\n",
    "    3. Use function isin and assign to variable found a list of pokemon names\n",
    "       where the following mass and length combinations are found:\n",
    "\n",
    "\n",
    "mass, length\n",
    "\n",
    "1000, 20\n",
    "\n",
    "855, 16\n",
    "\n",
    "905, 17\n",
    "\n",
    "199, 11\n",
    "\n",
    "2350, 65\n",
    "\n",
    "554, 17\n",
    "\n",
    "526, 16\n",
    "\n",
    "600, 20\n",
    "\n",
    "2020, 20\n",
    "\n",
    "2160, 52\n",
    "\n",
    "1990, 38\n",
    "\n",
    "Objectives\n",
    "\n",
    "    - MultiIndexing\n",
    "        - Selecting with isins\n",
    "            \n",
    "    - Meta data and indexing"
   ]
  },
  {
   "cell_type": "code",
   "execution_count": 326,
   "metadata": {},
   "outputs": [],
   "source": [
    "pokemon.set_index(['weight','height'], inplace = True)"
   ]
  },
  {
   "cell_type": "code",
   "execution_count": 327,
   "metadata": {},
   "outputs": [],
   "source": [
    "pokemon.index.rename(['mass','length'], inplace = True)"
   ]
  },
  {
   "cell_type": "code",
   "execution_count": 328,
   "metadata": {},
   "outputs": [],
   "source": [
    "tu_list= [(1000,20),(855,16),(905,17),(199,11),(2350,65),(554,17),(526,16),(600,20),(2020,20),(2160,52),(1990,38)]\n",
    "foundBool = pokemon.index.isin(tu_list)\n",
    "found = pokemon[foundBool].name\n"
   ]
  },
  {
   "cell_type": "code",
   "execution_count": 329,
   "metadata": {},
   "outputs": [],
   "source": [
    "assert pokemon.index.names == ['mass', 'length']\n",
    "assert sorted(found) == ['articuno', 'blastoise', 'charizard',\n",
    "                         'gyarados', 'ho-oh', 'lugia', 'moltres', 'ninetales',\n",
    "                         'tyranitar', 'venusaur', 'zapdos']"
   ]
  },
  {
   "cell_type": "markdown",
   "metadata": {},
   "source": [
    "Activity 3\n",
    "\n",
    "    1. Create a DataFrame named includes using the DataFrame function where\n",
    "       that is the same shape as pokemon but only has values for p_id's 60-70.\n",
    "       \n",
    "    2. Use the DataFrame function mask to assign to variable excludes a\n",
    "       DataFrame that is the same shape as pokemon but has values for\n",
    "       p_id's < 20\n",
    "\n",
    "Objectives\n",
    "    \n",
    "    - mask()\n",
    "\n",
    "    - where()\n",
    "    "
   ]
  },
  {
   "cell_type": "code",
   "execution_count": 356,
   "metadata": {},
   "outputs": [
    {
     "name": "stdout",
     "output_type": "stream",
     "text": [
      "     p_id name  base_experience  height  weight\n",
      "0     NaN  NaN              NaN     NaN     NaN\n",
      "1     NaN  NaN              NaN     NaN     NaN\n",
      "2     NaN  NaN              NaN     NaN     NaN\n",
      "3     NaN  NaN              NaN     NaN     NaN\n",
      "4     NaN  NaN              NaN     NaN     NaN\n",
      "..    ...  ...              ...     ...     ...\n",
      "294   NaN  NaN              NaN     NaN     NaN\n",
      "295   NaN  NaN              NaN     NaN     NaN\n",
      "296   NaN  NaN              NaN     NaN     NaN\n",
      "297   NaN  NaN              NaN     NaN     NaN\n",
      "298   NaN  NaN              NaN     NaN     NaN\n",
      "\n",
      "[299 rows x 5 columns]\n"
     ]
    }
   ],
   "source": [
    "filtRange = [60,61,62,63,64,65,66,67,68,69,70]\n",
    "inclFilter1 = pokemon.p_id > 59\n",
    "inclFilter2 = pokemon.p_id < 71\n",
    "includes = pokemon.where(inclFilter1 & inclFilter2)\n",
    "print(includes)\n"
   ]
  },
  {
   "cell_type": "code",
   "execution_count": 362,
   "metadata": {},
   "outputs": [
    {
     "name": "stdout",
     "output_type": "stream",
     "text": [
      "     p_id        name  base_experience  height  weight\n",
      "0     1.0   bulbasaur             64.0     7.0    69.0\n",
      "1     2.0     ivysaur            142.0    10.0   130.0\n",
      "2     3.0    venusaur            263.0    20.0  1000.0\n",
      "3     4.0  charmander             62.0     6.0    85.0\n",
      "4     5.0  charmeleon            142.0    11.0   190.0\n",
      "..    ...         ...              ...     ...     ...\n",
      "294   NaN         NaN              NaN     NaN     NaN\n",
      "295   NaN         NaN              NaN     NaN     NaN\n",
      "296   NaN         NaN              NaN     NaN     NaN\n",
      "297   NaN         NaN              NaN     NaN     NaN\n",
      "298   NaN         NaN              NaN     NaN     NaN\n",
      "\n",
      "[299 rows x 5 columns]\n"
     ]
    }
   ],
   "source": [
    "excludes = pokemon.mask(pokemon.p_id > 19)\n",
    "print(excludes)"
   ]
  },
  {
   "cell_type": "code",
   "execution_count": 363,
   "metadata": {},
   "outputs": [],
   "source": [
    "assert includes.name.dropna().to_list() == ['poliwag', 'poliwhirl',\n",
    "                                            'poliwrath', 'abra', 'kadabra',\n",
    "                                            'alakazam', 'machop', 'machoke',\n",
    "                                            'machamp', 'bellsprout',\n",
    "                                            'weepinbell']\n",
    "\n",
    "assert excludes.name.dropna().to_list() == ['bulbasaur', 'ivysaur', 'venusaur',\n",
    "                                            'charmander', 'charmeleon',\n",
    "                                            'charizard', 'squirtle',\n",
    "                                            'wartortle', 'blastoise',\n",
    "                                            'caterpie', 'metapod',\n",
    "                                            'butterfree', 'weedle', 'kakuna',\n",
    "                                            'beedrill', 'pidgey', 'pidgeotto',\n",
    "                                            'pidgeot', 'rattata']\n",
    "\n",
    "assert includes.shape == excludes.shape == pokemon.shape"
   ]
  }
 ],
 "metadata": {
  "kernelspec": {
   "display_name": "Python 3.10.9 ('workshop')",
   "language": "python",
   "name": "python3"
  },
  "language_info": {
   "codemirror_mode": {
    "name": "ipython",
    "version": 3
   },
   "file_extension": ".py",
   "mimetype": "text/x-python",
   "name": "python",
   "nbconvert_exporter": "python",
   "pygments_lexer": "ipython3",
   "version": "3.9.12"
  },
  "orig_nbformat": 4,
  "vscode": {
   "interpreter": {
    "hash": "dad538cbca90b7e8ccff3c61b4110824e8393e27023585c04e3acaa3a1d4a2a4"
   }
  }
 },
 "nbformat": 4,
 "nbformat_minor": 2
}
